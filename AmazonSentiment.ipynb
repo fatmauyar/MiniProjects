{
 "cells": [
  {
   "cell_type": "markdown",
   "metadata": {},
   "source": [
    "# Amazon User Reviews Sentiment Analysis "
   ]
  },
  {
   "cell_type": "markdown",
   "metadata": {},
   "source": [
    "What was the last thing that you purchased on Amazon? Chances are, if it was not a repeat buy, you read the user reviews before making the purchase decision. Often we look at highest and lowest star reviews to find out about possible issues and hope we too would have that wonderful 5-star experience as well. Good reviews mean good business as they increase confidence in potential buyers. \n",
    "\n",
    "It is vital for companies to track their user reviews to determine polarity of their products. Sentiment analysis [subfield of Natural Language Processing (NLP)] can be used to sift through structured and unstructured text documents and extracting meaning and insights. \n",
    "\n",
    "In this project, we will identify good and bad reviews from Amazon commerce data downloaded from data.world. \n",
    "Using Python **NLTK library** and **Scikit Learn**, we will clean and explore the dataset first, then apply sentiment analysis using bayesian modeling. \n",
    "\n",
    "   [Exploratory Data Analysis ](explore)  \n",
    "   \n",
    "   [Text Processing ](text)  \n",
    "   \n",
    "   [Sentiment Analysis ](sentiment)  \n",
    "   \n",
    "   [Error Analysis](error)  \n",
    "\n",
    "Project Resources: [Udemy: Python for Data Science and Machine Learning Bootcamp](https://www.udemy.com/python-for-data-science-and-machine-learning-bootcamp/learn/v4/t/lecture/5733564?start=0)  \n",
    "Project Dataset: [Amazon commerce web scraping sample sourced from: Data.world](https://data.world/promptcloud/fashion-products-on-amazon-com)  \n",
    "Yelp review example: [Sentiment Analysis for Yelp reviews](https://medium.com/tensorist/classifying-yelp-reviews-using-nltk-and-scikit-learn-c58e71e962d9)"
   ]
  },
  {
   "cell_type": "markdown",
   "metadata": {},
   "source": [
    "## Exploratory Data Analysis <a name=\"explore\"></a>"
   ]
  },
  {
   "cell_type": "code",
   "execution_count": 1,
   "metadata": {},
   "outputs": [],
   "source": [
    "import pandas as pd\n",
    "import numpy as np\n",
    "import string\n",
    "import re\n",
    "\n",
    "#visualization\n",
    "import seaborn as sns\n",
    "import matplotlib.pyplot as plt\n",
    "%matplotlib inline\n",
    "sns.set(color_codes=True)\n",
    "pal = sns.color_palette(\"Set2\", 10)\n",
    "sns.set_palette(pal)"
   ]
  },
  {
   "cell_type": "code",
   "execution_count": 2,
   "metadata": {},
   "outputs": [
    {
     "data": {
      "text/html": [
       "<div>\n",
       "<style scoped>\n",
       "    .dataframe tbody tr th:only-of-type {\n",
       "        vertical-align: middle;\n",
       "    }\n",
       "\n",
       "    .dataframe tbody tr th {\n",
       "        vertical-align: top;\n",
       "    }\n",
       "\n",
       "    .dataframe thead th {\n",
       "        text-align: right;\n",
       "    }\n",
       "</style>\n",
       "<table border=\"1\" class=\"dataframe\">\n",
       "  <thead>\n",
       "    <tr style=\"text-align: right;\">\n",
       "      <th></th>\n",
       "      <th>uniq_id</th>\n",
       "      <th>product_name</th>\n",
       "      <th>manufacturer</th>\n",
       "      <th>price</th>\n",
       "      <th>number_available_in_stock</th>\n",
       "      <th>number_of_reviews</th>\n",
       "      <th>number_of_answered_questions</th>\n",
       "      <th>average_review_rating</th>\n",
       "      <th>amazon_category_and_sub_category</th>\n",
       "      <th>customers_who_bought_this_item_also_bought</th>\n",
       "      <th>description</th>\n",
       "      <th>product_information</th>\n",
       "      <th>product_description</th>\n",
       "      <th>items_customers_buy_after_viewing_this_item</th>\n",
       "      <th>customer_questions_and_answers</th>\n",
       "      <th>customer_reviews</th>\n",
       "      <th>sellers</th>\n",
       "    </tr>\n",
       "  </thead>\n",
       "  <tbody>\n",
       "    <tr>\n",
       "      <th>0</th>\n",
       "      <td>eac7efa5dbd3d667f26eb3d3ab504464</td>\n",
       "      <td>Hornby 2014 Catalogue</td>\n",
       "      <td>Hornby</td>\n",
       "      <td>£3.42</td>\n",
       "      <td>5 new</td>\n",
       "      <td>15</td>\n",
       "      <td>1.0</td>\n",
       "      <td>4.9 out of 5 stars</td>\n",
       "      <td>Hobbies &gt; Model Trains &amp; Railway Sets &gt; Rail V...</td>\n",
       "      <td>http://www.amazon.co.uk/Hornby-R8150-Catalogue...</td>\n",
       "      <td>Product Description Hornby 2014 Catalogue Box ...</td>\n",
       "      <td>Technical Details Item Weight640 g Product Dim...</td>\n",
       "      <td>Product Description Hornby 2014 Catalogue Box ...</td>\n",
       "      <td>http://www.amazon.co.uk/Hornby-R8150-Catalogue...</td>\n",
       "      <td>Does this catalogue detail all the previous Ho...</td>\n",
       "      <td>Worth Buying For The Pictures Alone (As Ever) ...</td>\n",
       "      <td>{\"seller\"=&gt;[{\"Seller_name_1\"=&gt;\"Amazon.co.uk\", ...</td>\n",
       "    </tr>\n",
       "    <tr>\n",
       "      <th>1</th>\n",
       "      <td>b17540ef7e86e461d37f3ae58b7b72ac</td>\n",
       "      <td>FunkyBuys® Large Christmas Holiday Express Fes...</td>\n",
       "      <td>FunkyBuys</td>\n",
       "      <td>£16.99</td>\n",
       "      <td>NaN</td>\n",
       "      <td>2</td>\n",
       "      <td>1.0</td>\n",
       "      <td>4.5 out of 5 stars</td>\n",
       "      <td>Hobbies &gt; Model Trains &amp; Railway Sets &gt; Rail V...</td>\n",
       "      <td>http://www.amazon.co.uk/Christmas-Holiday-Expr...</td>\n",
       "      <td>Size Name:Large FunkyBuys® Large Christmas Hol...</td>\n",
       "      <td>Technical Details Manufacturer recommended age...</td>\n",
       "      <td>Size Name:Large FunkyBuys® Large Christmas Hol...</td>\n",
       "      <td>http://www.amazon.co.uk/Christmas-Holiday-Expr...</td>\n",
       "      <td>can you turn off sounds // hi no you cant turn...</td>\n",
       "      <td>Four Stars // 4.0 // 18 Dec. 2015 // By\\n    \\...</td>\n",
       "      <td>{\"seller\"=&gt;{\"Seller_name_1\"=&gt;\"UHD WHOLESALE\", ...</td>\n",
       "    </tr>\n",
       "    <tr>\n",
       "      <th>2</th>\n",
       "      <td>348f344247b0c1a935b1223072ef9d8a</td>\n",
       "      <td>CLASSIC TOY TRAIN SET TRACK CARRIAGES LIGHT EN...</td>\n",
       "      <td>ccf</td>\n",
       "      <td>£9.99</td>\n",
       "      <td>2 new</td>\n",
       "      <td>17</td>\n",
       "      <td>2.0</td>\n",
       "      <td>3.9 out of 5 stars</td>\n",
       "      <td>Hobbies &gt; Model Trains &amp; Railway Sets &gt; Rail V...</td>\n",
       "      <td>http://www.amazon.co.uk/Classic-Train-Lights-B...</td>\n",
       "      <td>BIG CLASSIC TOY TRAIN SET TRACK CARRIAGE LIGHT...</td>\n",
       "      <td>Technical Details Manufacturer recommended age...</td>\n",
       "      <td>BIG CLASSIC TOY TRAIN SET TRACK CARRIAGE LIGHT...</td>\n",
       "      <td>http://www.amazon.co.uk/Train-With-Tracks-Batt...</td>\n",
       "      <td>What is the gauge of the track // Hi Paul.Trut...</td>\n",
       "      <td>**Highly Recommended!** // 5.0 // 26 May 2015 ...</td>\n",
       "      <td>{\"seller\"=&gt;[{\"Seller_name_1\"=&gt;\"DEAL-BOX\", \"Sel...</td>\n",
       "    </tr>\n",
       "    <tr>\n",
       "      <th>3</th>\n",
       "      <td>e12b92dbb8eaee78b22965d2a9bbbd9f</td>\n",
       "      <td>HORNBY Coach R4410A BR Hawksworth Corridor 3rd</td>\n",
       "      <td>Hornby</td>\n",
       "      <td>£39.99</td>\n",
       "      <td>NaN</td>\n",
       "      <td>1</td>\n",
       "      <td>2.0</td>\n",
       "      <td>5.0 out of 5 stars</td>\n",
       "      <td>Hobbies &gt; Model Trains &amp; Railway Sets &gt; Rail V...</td>\n",
       "      <td>NaN</td>\n",
       "      <td>Hornby 00 Gauge BR Hawksworth 3rd Class W 2107...</td>\n",
       "      <td>Technical Details Item Weight259 g Product Dim...</td>\n",
       "      <td>Hornby 00 Gauge BR Hawksworth 3rd Class W 2107...</td>\n",
       "      <td>NaN</td>\n",
       "      <td>NaN</td>\n",
       "      <td>I love it // 5.0 // 22 July 2013 // By\\n    \\n...</td>\n",
       "      <td>NaN</td>\n",
       "    </tr>\n",
       "    <tr>\n",
       "      <th>4</th>\n",
       "      <td>e33a9adeed5f36840ccc227db4682a36</td>\n",
       "      <td>Hornby 00 Gauge 0-4-0 Gildenlow Salt Co. Steam...</td>\n",
       "      <td>Hornby</td>\n",
       "      <td>£32.19</td>\n",
       "      <td>NaN</td>\n",
       "      <td>3</td>\n",
       "      <td>2.0</td>\n",
       "      <td>4.7 out of 5 stars</td>\n",
       "      <td>Hobbies &gt; Model Trains &amp; Railway Sets &gt; Rail V...</td>\n",
       "      <td>http://www.amazon.co.uk/Hornby-R6367-RailRoad-...</td>\n",
       "      <td>Product Description Hornby RailRoad 0-4-0 Gild...</td>\n",
       "      <td>Technical Details Item Weight159 g Product Dim...</td>\n",
       "      <td>Product Description Hornby RailRoad 0-4-0 Gild...</td>\n",
       "      <td>http://www.amazon.co.uk/Hornby-R2672-RailRoad-...</td>\n",
       "      <td>NaN</td>\n",
       "      <td>Birthday present // 5.0 // 14 April 2014 // By...</td>\n",
       "      <td>NaN</td>\n",
       "    </tr>\n",
       "  </tbody>\n",
       "</table>\n",
       "</div>"
      ],
      "text/plain": [
       "                            uniq_id  \\\n",
       "0  eac7efa5dbd3d667f26eb3d3ab504464   \n",
       "1  b17540ef7e86e461d37f3ae58b7b72ac   \n",
       "2  348f344247b0c1a935b1223072ef9d8a   \n",
       "3  e12b92dbb8eaee78b22965d2a9bbbd9f   \n",
       "4  e33a9adeed5f36840ccc227db4682a36   \n",
       "\n",
       "                                        product_name manufacturer   price  \\\n",
       "0                              Hornby 2014 Catalogue       Hornby   £3.42   \n",
       "1  FunkyBuys® Large Christmas Holiday Express Fes...    FunkyBuys  £16.99   \n",
       "2  CLASSIC TOY TRAIN SET TRACK CARRIAGES LIGHT EN...          ccf   £9.99   \n",
       "3     HORNBY Coach R4410A BR Hawksworth Corridor 3rd       Hornby  £39.99   \n",
       "4  Hornby 00 Gauge 0-4-0 Gildenlow Salt Co. Steam...       Hornby  £32.19   \n",
       "\n",
       "  number_available_in_stock number_of_reviews  number_of_answered_questions  \\\n",
       "0                     5 new                15                           1.0   \n",
       "1                       NaN                 2                           1.0   \n",
       "2                     2 new                17                           2.0   \n",
       "3                       NaN                 1                           2.0   \n",
       "4                       NaN                 3                           2.0   \n",
       "\n",
       "  average_review_rating                   amazon_category_and_sub_category  \\\n",
       "0    4.9 out of 5 stars  Hobbies > Model Trains & Railway Sets > Rail V...   \n",
       "1    4.5 out of 5 stars  Hobbies > Model Trains & Railway Sets > Rail V...   \n",
       "2    3.9 out of 5 stars  Hobbies > Model Trains & Railway Sets > Rail V...   \n",
       "3    5.0 out of 5 stars  Hobbies > Model Trains & Railway Sets > Rail V...   \n",
       "4    4.7 out of 5 stars  Hobbies > Model Trains & Railway Sets > Rail V...   \n",
       "\n",
       "          customers_who_bought_this_item_also_bought  \\\n",
       "0  http://www.amazon.co.uk/Hornby-R8150-Catalogue...   \n",
       "1  http://www.amazon.co.uk/Christmas-Holiday-Expr...   \n",
       "2  http://www.amazon.co.uk/Classic-Train-Lights-B...   \n",
       "3                                                NaN   \n",
       "4  http://www.amazon.co.uk/Hornby-R6367-RailRoad-...   \n",
       "\n",
       "                                         description  \\\n",
       "0  Product Description Hornby 2014 Catalogue Box ...   \n",
       "1  Size Name:Large FunkyBuys® Large Christmas Hol...   \n",
       "2  BIG CLASSIC TOY TRAIN SET TRACK CARRIAGE LIGHT...   \n",
       "3  Hornby 00 Gauge BR Hawksworth 3rd Class W 2107...   \n",
       "4  Product Description Hornby RailRoad 0-4-0 Gild...   \n",
       "\n",
       "                                 product_information  \\\n",
       "0  Technical Details Item Weight640 g Product Dim...   \n",
       "1  Technical Details Manufacturer recommended age...   \n",
       "2  Technical Details Manufacturer recommended age...   \n",
       "3  Technical Details Item Weight259 g Product Dim...   \n",
       "4  Technical Details Item Weight159 g Product Dim...   \n",
       "\n",
       "                                 product_description  \\\n",
       "0  Product Description Hornby 2014 Catalogue Box ...   \n",
       "1  Size Name:Large FunkyBuys® Large Christmas Hol...   \n",
       "2  BIG CLASSIC TOY TRAIN SET TRACK CARRIAGE LIGHT...   \n",
       "3  Hornby 00 Gauge BR Hawksworth 3rd Class W 2107...   \n",
       "4  Product Description Hornby RailRoad 0-4-0 Gild...   \n",
       "\n",
       "         items_customers_buy_after_viewing_this_item  \\\n",
       "0  http://www.amazon.co.uk/Hornby-R8150-Catalogue...   \n",
       "1  http://www.amazon.co.uk/Christmas-Holiday-Expr...   \n",
       "2  http://www.amazon.co.uk/Train-With-Tracks-Batt...   \n",
       "3                                                NaN   \n",
       "4  http://www.amazon.co.uk/Hornby-R2672-RailRoad-...   \n",
       "\n",
       "                      customer_questions_and_answers  \\\n",
       "0  Does this catalogue detail all the previous Ho...   \n",
       "1  can you turn off sounds // hi no you cant turn...   \n",
       "2  What is the gauge of the track // Hi Paul.Trut...   \n",
       "3                                                NaN   \n",
       "4                                                NaN   \n",
       "\n",
       "                                    customer_reviews  \\\n",
       "0  Worth Buying For The Pictures Alone (As Ever) ...   \n",
       "1  Four Stars // 4.0 // 18 Dec. 2015 // By\\n    \\...   \n",
       "2  **Highly Recommended!** // 5.0 // 26 May 2015 ...   \n",
       "3  I love it // 5.0 // 22 July 2013 // By\\n    \\n...   \n",
       "4  Birthday present // 5.0 // 14 April 2014 // By...   \n",
       "\n",
       "                                             sellers  \n",
       "0  {\"seller\"=>[{\"Seller_name_1\"=>\"Amazon.co.uk\", ...  \n",
       "1  {\"seller\"=>{\"Seller_name_1\"=>\"UHD WHOLESALE\", ...  \n",
       "2  {\"seller\"=>[{\"Seller_name_1\"=>\"DEAL-BOX\", \"Sel...  \n",
       "3                                                NaN  \n",
       "4                                                NaN  "
      ]
     },
     "execution_count": 2,
     "metadata": {},
     "output_type": "execute_result"
    }
   ],
   "source": [
    "df=pd.read_csv('input/amazon_co-ecommerce_sample.csv')\n",
    "df.head()"
   ]
  },
  {
   "cell_type": "code",
   "execution_count": 3,
   "metadata": {},
   "outputs": [
    {
     "data": {
      "text/plain": [
       "(10000, 17)"
      ]
     },
     "execution_count": 3,
     "metadata": {},
     "output_type": "execute_result"
    }
   ],
   "source": [
    "df.shape"
   ]
  },
  {
   "cell_type": "markdown",
   "metadata": {},
   "source": [
    "#### Exploring product manufacturers "
   ]
  },
  {
   "cell_type": "markdown",
   "metadata": {},
   "source": [
    "The dataset has 10000 rows containing 10000unique products. \n",
    "We will explore the manufacturers of these products and their main categories. "
   ]
  },
  {
   "cell_type": "code",
   "execution_count": 4,
   "metadata": {},
   "outputs": [
    {
     "data": {
      "text/plain": [
       "LEGO                                            171\n",
       "Disney                                          167\n",
       "Oxford Diecast                                  156\n",
       "Playmobil                                       147\n",
       "Star Wars                                       120\n",
       "Mattel                                          114\n",
       "Hasbro                                          110\n",
       "The Puppet Company                              109\n",
       "MyTinyWorld                                      93\n",
       "Corgi                                            90\n",
       "Hornby                                           87\n",
       "Scalextric                                       76\n",
       "Pokémon                                          69\n",
       "Schleich                                         68\n",
       "Amscan                                           65\n",
       "Every-occasion-party-supplies                    62\n",
       "Melissa & Doug                                   59\n",
       "FunKo                                            59\n",
       "Papo                                             58\n",
       "Tamiya                                           57\n",
       "Ravensburger                                     56\n",
       "Bristol Novelties                                53\n",
       "Intex                                            52\n",
       "Hot Wheels                                       50\n",
       "Tobar                                            49\n",
       "Revell-Monogram                                  48\n",
       "Takara Tomy                                      48\n",
       "Q-Workshop                                       47\n",
       "Marvel                                           47\n",
       "Thomas & Friends                                 47\n",
       "                                               ... \n",
       "Medieval Dragon Ride-On                           1\n",
       "American Muscle - ERTL Collectibles               1\n",
       "License 2 Play Inc                                1\n",
       "TreasureTrove Toys                                1\n",
       "BuyinCoins                                        1\n",
       "Cardinal Industries                               1\n",
       "Tekken                                            1\n",
       "Maxi Hama                                         1\n",
       "Vigid Imaginations                                1\n",
       "Magic The Gathering 2013 Core Set Intro Pack      1\n",
       "TINKERTOY                                         1\n",
       "Paladin                                           1\n",
       "Bundle Monster                                    1\n",
       "One Direction                                     1\n",
       "XCSOURCE                                          1\n",
       "Transformers Age of Extinction                    1\n",
       "Heinrich Bauer                                    1\n",
       "FQ                                                1\n",
       "MG                                                1\n",
       "Masters                                           1\n",
       "Wishtime                                          1\n",
       "Blue Exorcist                                     1\n",
       "Living Nature                                     1\n",
       "Infantastic                                       1\n",
       "Fizz Creations Ltd                                1\n",
       "Jakobs                                            1\n",
       "SpringRC                                          1\n",
       "Fresh Metal                                       1\n",
       "Big Chief                                         1\n",
       "Westland Sea King HC.4                            1\n",
       "Name: manufacturer, Length: 2651, dtype: int64"
      ]
     },
     "execution_count": 4,
     "metadata": {},
     "output_type": "execute_result"
    }
   ],
   "source": [
    "#Complete list of manufacturers\n",
    "df['manufacturer'].value_counts()"
   ]
  },
  {
   "cell_type": "markdown",
   "metadata": {},
   "source": [
    "There are 2651 manufacturers in the dataset, we can explore the top manufacturers in a pie plot with a pie chart. \n",
    "This allows us to see that the products in the dataset are possible in the toy category. "
   ]
  },
  {
   "cell_type": "code",
   "execution_count": 5,
   "metadata": {},
   "outputs": [
    {
     "data": {
      "text/html": [
       "<script type=\"text/javascript\">window.PlotlyConfig = {MathJaxConfig: 'local'};</script><script type=\"text/javascript\">if (window.MathJax) {MathJax.Hub.Config({SVG: {font: \"STIX-Web\"}});}</script><script>requirejs.config({paths: { 'plotly': ['https://cdn.plot.ly/plotly-latest.min']},});if(!window._Plotly) {require(['plotly'],function(plotly) {window._Plotly=plotly;});}</script>"
      ],
      "text/vnd.plotly.v1+html": [
       "<script type=\"text/javascript\">window.PlotlyConfig = {MathJaxConfig: 'local'};</script><script type=\"text/javascript\">if (window.MathJax) {MathJax.Hub.Config({SVG: {font: \"STIX-Web\"}});}</script><script>requirejs.config({paths: { 'plotly': ['https://cdn.plot.ly/plotly-latest.min']},});if(!window._Plotly) {require(['plotly'],function(plotly) {window._Plotly=plotly;});}</script>"
      ]
     },
     "metadata": {},
     "output_type": "display_data"
    },
    {
     "data": {
      "text/html": [
       "<iframe id=\"igraph\" scrolling=\"no\" style=\"border:none;\" seamless=\"seamless\" src=\"https://plot.ly/~cizbakalim/44.embed\" height=\"525px\" width=\"100%\"></iframe>"
      ],
      "text/plain": [
       "<plotly.tools.PlotlyDisplay object>"
      ]
     },
     "execution_count": 5,
     "metadata": {},
     "output_type": "execute_result"
    }
   ],
   "source": [
    "## PManufacturers\n",
    "import plotly.plotly as py\n",
    "import plotly.graph_objs as go\n",
    "\n",
    "from plotly.offline import download_plotlyjs, init_notebook_mode, plot, iplot\n",
    "init_notebook_mode(connected=True)\n",
    "\n",
    "labels = df['manufacturer'].value_counts().index[0:50]\n",
    "values = df['manufacturer'].value_counts().tolist()[0:50]\n",
    "\n",
    "trace = go.Bar(x=labels, y=values)\n",
    "py.iplot([trace])"
   ]
  },
  {
   "cell_type": "markdown",
   "metadata": {},
   "source": [
    "#### Exploring product categories"
   ]
  },
  {
   "cell_type": "code",
   "execution_count": 6,
   "metadata": {},
   "outputs": [
    {
     "data": {
      "text/html": [
       "<iframe id=\"igraph\" scrolling=\"no\" style=\"border:none;\" seamless=\"seamless\" src=\"https://plot.ly/~cizbakalim/46.embed\" height=\"525px\" width=\"100%\"></iframe>"
      ],
      "text/plain": [
       "<plotly.tools.PlotlyDisplay object>"
      ]
     },
     "execution_count": 6,
     "metadata": {},
     "output_type": "execute_result"
    }
   ],
   "source": [
    "def extract_category(text):\n",
    "    category =[]\n",
    "    if len(text)>0:\n",
    "        category=re.split('\\ > ',text)[0]\n",
    "    return category\n",
    "\n",
    "df.loc[:, 'category']=df['amazon_category_and_sub_category'].apply(lambda x: extract_category(str(x)))\n",
    "df.category.value_counts()\n",
    "\n",
    "labels = df['category'].value_counts().index\n",
    "values = df['category'].value_counts().tolist()\n",
    "\n",
    "trace = go.Bar(x=labels, y=values)\n",
    "py.iplot([trace])"
   ]
  },
  {
   "cell_type": "markdown",
   "metadata": {},
   "source": [
    "##  Text processing <a name=\"text\"></a>\n",
    "\n",
    "**Exploring product reviews**\n",
    "\n",
    "The nested user reviews of each product are listed under customer reviews column. \n",
    "\n",
    "Now, we need to inspect the text data fields inside this customer reviews column to scrape the relevant information for individual reviews. "
   ]
  },
  {
   "cell_type": "code",
   "execution_count": 7,
   "metadata": {},
   "outputs": [
    {
     "data": {
      "text/plain": [
       "\"Worth Buying For The Pictures Alone (As Ever) // 4.0 // 6 April 2014 // By\\n    \\n    Copnovelist\\n  \\n on 6 April 2014 // Part of the magic for me growing up as a boy was to buy (or be given) the new Hornby catalogue every year, even if it included 90% of the same products as the previous year.  I've still got my old ones dating back to the 70s and 80s somewhere.  These days the catalogue is especially informative in that it tells you the vintage of the rolling stock which is useful if you are dedicating your railway to one particular era and train company. | Amazing detail fabulous photography. // 5.0 // 11 April 2015 // By\\n    \\n    richard\\n  \\n on 11 April 2015 // Amazing detail, every credit to the photographer in this book, a worthy reference manual, as well as a sales brochure. even if you only have a passing interest in the hobby you will be transported to another time when we were all younger and in awe of the big trains. | 'Great Purchase' // 5.0 // 23 April 2014 // By\\n    \\n    Pinkhandbag\\n  \\n on 23 April 2014 // This was purchased on behalf of my Dad. He is always asking me to look up 00 gauge engines online, so this has been a good buy as he can look at it anytime. Would definitely buy the next one 2015!It arrived quickly and in perfect condition :-) | Great Catalogue // 5.0 // 11 Jun. 2014 // By\\n    \\n    Gary John Mapson\\n  \\n on 11 Jun. 2014 // Everything I really needed to see what was on offer from Hornby in the way of trains.  Would not have minded it included an RRP as well though | I collect them all as the glossy pictures are great and it is nice that you can still get ... // 5.0 // 7 Dec. 2014 // By\\n    \\n    David Baker\\n  \\n on 7 Dec. 2014 // I collect them all as the glossy pictures are great and it is nice that you can still get catalogs to collect. | Great catalogue // 5.0 // 20 Mar. 2015 // By\\n    \\n    John A. Day\\n  \\n on 20 Mar. 2015 // What a great book.  Extremely useful insight to all future christmas presents. | Useful // 5.0 // 7 Oct. 2014 // By\\n    \\n    T. Davies\\n  \\n on 7 Oct. 2014 // Useful info for someonelike me starting back into the hobby after many years | hornbys latest catalogue. // 5.0 // 1 Dec. 2014 // By\\n    \\n    John Butlin\\n  \\n on 1 Dec. 2014 // A well produced very good quality catalogue.Super quality pictures.\""
      ]
     },
     "execution_count": 7,
     "metadata": {},
     "output_type": "execute_result"
    }
   ],
   "source": [
    "df.customer_reviews[0]"
   ]
  },
  {
   "cell_type": "markdown",
   "metadata": {},
   "source": [
    "Looks like user reviews for a certain product are split by '|' character, and within each user review we have review title, rating, review data, by user and review text body all separated by '//'. Now we can extract these fields by text processing."
   ]
  },
  {
   "cell_type": "code",
   "execution_count": 8,
   "metadata": {},
   "outputs": [],
   "source": [
    "def process_customer_reviews(text):\n",
    "    #separate individual reviews\n",
    "    ratings, title, usrname, rev, dates, =[],[],[],[],[]\n",
    "    if len(text)>0:\n",
    "        #generate list of user reviews per item \n",
    "        listrev=re.split('\\|',text) \n",
    "        \n",
    "        #split fields of user review\n",
    "        lrev=[re.split('\\//',x) for x in listrev] \n",
    "        \n",
    "        # access fields of user review\n",
    "        title=[x[0] for x in lrev]\n",
    "        ratings=[x[1] for x in lrev if len(x)==5]\n",
    "        dates=[x[2] for x in lrev if len(x)==5]\n",
    "        usr=[re.split('[\\n]',x[3]) for x in lrev if len(x)==5]\n",
    "        usrname=[str.lstrip(x[2]) for x in usr if len(x)>2]  # remove leading spaces\n",
    "        rev=[x[4] for x in lrev if len(x)==5]\n",
    "        \n",
    "    return  pd.Series([ratings,title,usrname,rev,dates])\n",
    "\n",
    "amz=pd.DataFrame()\n",
    "amz[['ratings','titles','usrnames','reviews','dates']]=df['customer_reviews'].apply(lambda x: process_customer_reviews(str(x)))"
   ]
  },
  {
   "cell_type": "code",
   "execution_count": 9,
   "metadata": {},
   "outputs": [
    {
     "data": {
      "text/html": [
       "<div>\n",
       "<style scoped>\n",
       "    .dataframe tbody tr th:only-of-type {\n",
       "        vertical-align: middle;\n",
       "    }\n",
       "\n",
       "    .dataframe tbody tr th {\n",
       "        vertical-align: top;\n",
       "    }\n",
       "\n",
       "    .dataframe thead th {\n",
       "        text-align: right;\n",
       "    }\n",
       "</style>\n",
       "<table border=\"1\" class=\"dataframe\">\n",
       "  <thead>\n",
       "    <tr style=\"text-align: right;\">\n",
       "      <th></th>\n",
       "      <th>ratings</th>\n",
       "      <th>titles</th>\n",
       "      <th>usrnames</th>\n",
       "      <th>reviews</th>\n",
       "      <th>dates</th>\n",
       "    </tr>\n",
       "  </thead>\n",
       "  <tbody>\n",
       "    <tr>\n",
       "      <th>0</th>\n",
       "      <td>[ 4.0 ,  5.0 ,  5.0 ,  5.0 ,  5.0 ,  5.0 ,  5....</td>\n",
       "      <td>[Worth Buying For The Pictures Alone (As Ever)...</td>\n",
       "      <td>[Copnovelist, richard, Pinkhandbag, Gary John ...</td>\n",
       "      <td>[ Part of the magic for me growing up as a boy...</td>\n",
       "      <td>[ 6 April 2014 ,  11 April 2015 ,  23 April 20...</td>\n",
       "    </tr>\n",
       "    <tr>\n",
       "      <th>1</th>\n",
       "      <td>[ 4.0 ,  5.0 ]</td>\n",
       "      <td>[Four Stars ,  Five Stars ]</td>\n",
       "      <td>[kenneth bell, moosixty]</td>\n",
       "      <td>[ Very happy with the communication with funky...</td>\n",
       "      <td>[ 18 Dec. 2015 ,  14 Jan. 2016 ]</td>\n",
       "    </tr>\n",
       "    <tr>\n",
       "      <th>2</th>\n",
       "      <td>[ 5.0 ,  5.0 ,  5.0 ,  1.0 ,  1.0 ,  4.0 ,  5....</td>\n",
       "      <td>[**Highly Recommended!** ,  Excellent product ...</td>\n",
       "      <td>[Simon.B :-), Trevor, Janet, ann milburn, T. F...</td>\n",
       "      <td>[ Simple &amp; GREAT FUN for 5+My nephews face was...</td>\n",
       "      <td>[ 26 May 2015 ,  29 Jun. 2014 ,  20 Aug. 2015 ...</td>\n",
       "    </tr>\n",
       "    <tr>\n",
       "      <th>3</th>\n",
       "      <td>[ 5.0 ]</td>\n",
       "      <td>[I love it ]</td>\n",
       "      <td>[Lilla Lukacs]</td>\n",
       "      <td>[ I love it. Perfect with the earlier ordered ...</td>\n",
       "      <td>[ 22 July 2013 ]</td>\n",
       "    </tr>\n",
       "    <tr>\n",
       "      <th>4</th>\n",
       "      <td>[ 5.0 ,  4.0 ,  5.0 ]</td>\n",
       "      <td>[Birthday present ,  john burns ,  Get that st...</td>\n",
       "      <td>[Love my Dog, john burns, George A. Nott]</td>\n",
       "      <td>[ Bought this for my Grandson's birthday.  He ...</td>\n",
       "      <td>[ 14 April 2014 ,  17 Jan. 2014 ,  2 Nov. 2015 ]</td>\n",
       "    </tr>\n",
       "  </tbody>\n",
       "</table>\n",
       "</div>"
      ],
      "text/plain": [
       "                                             ratings  \\\n",
       "0  [ 4.0 ,  5.0 ,  5.0 ,  5.0 ,  5.0 ,  5.0 ,  5....   \n",
       "1                                     [ 4.0 ,  5.0 ]   \n",
       "2  [ 5.0 ,  5.0 ,  5.0 ,  1.0 ,  1.0 ,  4.0 ,  5....   \n",
       "3                                            [ 5.0 ]   \n",
       "4                              [ 5.0 ,  4.0 ,  5.0 ]   \n",
       "\n",
       "                                              titles  \\\n",
       "0  [Worth Buying For The Pictures Alone (As Ever)...   \n",
       "1                        [Four Stars ,  Five Stars ]   \n",
       "2  [**Highly Recommended!** ,  Excellent product ...   \n",
       "3                                       [I love it ]   \n",
       "4  [Birthday present ,  john burns ,  Get that st...   \n",
       "\n",
       "                                            usrnames  \\\n",
       "0  [Copnovelist, richard, Pinkhandbag, Gary John ...   \n",
       "1                           [kenneth bell, moosixty]   \n",
       "2  [Simon.B :-), Trevor, Janet, ann milburn, T. F...   \n",
       "3                                     [Lilla Lukacs]   \n",
       "4          [Love my Dog, john burns, George A. Nott]   \n",
       "\n",
       "                                             reviews  \\\n",
       "0  [ Part of the magic for me growing up as a boy...   \n",
       "1  [ Very happy with the communication with funky...   \n",
       "2  [ Simple & GREAT FUN for 5+My nephews face was...   \n",
       "3  [ I love it. Perfect with the earlier ordered ...   \n",
       "4  [ Bought this for my Grandson's birthday.  He ...   \n",
       "\n",
       "                                               dates  \n",
       "0  [ 6 April 2014 ,  11 April 2015 ,  23 April 20...  \n",
       "1                   [ 18 Dec. 2015 ,  14 Jan. 2016 ]  \n",
       "2  [ 26 May 2015 ,  29 Jun. 2014 ,  20 Aug. 2015 ...  \n",
       "3                                   [ 22 July 2013 ]  \n",
       "4   [ 14 April 2014 ,  17 Jan. 2014 ,  2 Nov. 2015 ]  "
      ]
     },
     "execution_count": 9,
     "metadata": {},
     "output_type": "execute_result"
    }
   ],
   "source": [
    "amz.head()"
   ]
  },
  {
   "cell_type": "markdown",
   "metadata": {},
   "source": [
    "Now, we will create a new dataframe where each row only contains a single review, instead of list of review records per item. We will also create a new feature based on review text lenght. "
   ]
  },
  {
   "cell_type": "code",
   "execution_count": 10,
   "metadata": {},
   "outputs": [
    {
     "data": {
      "text/html": [
       "<div>\n",
       "<style scoped>\n",
       "    .dataframe tbody tr th:only-of-type {\n",
       "        vertical-align: middle;\n",
       "    }\n",
       "\n",
       "    .dataframe tbody tr th {\n",
       "        vertical-align: top;\n",
       "    }\n",
       "\n",
       "    .dataframe thead th {\n",
       "        text-align: right;\n",
       "    }\n",
       "</style>\n",
       "<table border=\"1\" class=\"dataframe\">\n",
       "  <thead>\n",
       "    <tr style=\"text-align: right;\">\n",
       "      <th></th>\n",
       "      <th>rating</th>\n",
       "      <th>review</th>\n",
       "      <th>text_length</th>\n",
       "    </tr>\n",
       "  </thead>\n",
       "  <tbody>\n",
       "    <tr>\n",
       "      <th>0</th>\n",
       "      <td>4.0</td>\n",
       "      <td>Part of the magic for me growing up as a boy ...</td>\n",
       "      <td>443</td>\n",
       "    </tr>\n",
       "    <tr>\n",
       "      <th>1</th>\n",
       "      <td>5.0</td>\n",
       "      <td>Amazing detail, every credit to the photograp...</td>\n",
       "      <td>269</td>\n",
       "    </tr>\n",
       "    <tr>\n",
       "      <th>2</th>\n",
       "      <td>5.0</td>\n",
       "      <td>This was purchased on behalf of my Dad. He is...</td>\n",
       "      <td>245</td>\n",
       "    </tr>\n",
       "    <tr>\n",
       "      <th>3</th>\n",
       "      <td>5.0</td>\n",
       "      <td>Everything I really needed to see what was on...</td>\n",
       "      <td>144</td>\n",
       "    </tr>\n",
       "    <tr>\n",
       "      <th>4</th>\n",
       "      <td>5.0</td>\n",
       "      <td>I collect them all as the glossy pictures are...</td>\n",
       "      <td>112</td>\n",
       "    </tr>\n",
       "    <tr>\n",
       "      <th>5</th>\n",
       "      <td>5.0</td>\n",
       "      <td>What a great book.  Extremely useful insight ...</td>\n",
       "      <td>80</td>\n",
       "    </tr>\n",
       "    <tr>\n",
       "      <th>6</th>\n",
       "      <td>5.0</td>\n",
       "      <td>Useful info for someonelike me starting back ...</td>\n",
       "      <td>78</td>\n",
       "    </tr>\n",
       "    <tr>\n",
       "      <th>7</th>\n",
       "      <td>5.0</td>\n",
       "      <td>A well produced very good quality catalogue.S...</td>\n",
       "      <td>68</td>\n",
       "    </tr>\n",
       "    <tr>\n",
       "      <th>8</th>\n",
       "      <td>4.0</td>\n",
       "      <td>Very happy with the communication with funkyb...</td>\n",
       "      <td>50</td>\n",
       "    </tr>\n",
       "    <tr>\n",
       "      <th>9</th>\n",
       "      <td>5.0</td>\n",
       "      <td>Great buy.</td>\n",
       "      <td>11</td>\n",
       "    </tr>\n",
       "  </tbody>\n",
       "</table>\n",
       "</div>"
      ],
      "text/plain": [
       "   rating                                             review  text_length\n",
       "0     4.0   Part of the magic for me growing up as a boy ...          443\n",
       "1     5.0   Amazing detail, every credit to the photograp...          269\n",
       "2     5.0   This was purchased on behalf of my Dad. He is...          245\n",
       "3     5.0   Everything I really needed to see what was on...          144\n",
       "4     5.0   I collect them all as the glossy pictures are...          112\n",
       "5     5.0   What a great book.  Extremely useful insight ...           80\n",
       "6     5.0   Useful info for someonelike me starting back ...           78\n",
       "7     5.0   A well produced very good quality catalogue.S...           68\n",
       "8     4.0   Very happy with the communication with funkyb...           50\n",
       "9     5.0                                         Great buy.           11"
      ]
     },
     "execution_count": 10,
     "metadata": {},
     "output_type": "execute_result"
    }
   ],
   "source": [
    "reviews = []\n",
    "ratings = []\n",
    "\n",
    "for _, row in amz.iterrows():   \n",
    "    for rt in row.ratings:\n",
    "        ratings.append(rt)\n",
    "        \n",
    "    for i in range(len(row.ratings)):\n",
    "        reviews.append(row.reviews[i])\n",
    "\n",
    "amzdf= pd.DataFrame({\"rating\": ratings, \"review\": reviews})\n",
    "\n",
    "amzdf['text_length']=amzdf.review.apply(lambda x:len(str(x)))\n",
    "\n",
    "amzdf['rating']=amzdf['rating'].astype(dtype=np.float64)\n",
    "\n",
    "amzdf.head(10)"
   ]
  },
  {
   "cell_type": "code",
   "execution_count": 11,
   "metadata": {},
   "outputs": [
    {
     "data": {
      "text/plain": [
       "(29494, 3)"
      ]
     },
     "execution_count": 11,
     "metadata": {},
     "output_type": "execute_result"
    }
   ],
   "source": [
    "amzdf.shape"
   ]
  },
  {
   "cell_type": "markdown",
   "metadata": {},
   "source": [
    "After creating the new dataframe, we now have almost 30K individual reviews organized as single review per row."
   ]
  },
  {
   "cell_type": "markdown",
   "metadata": {},
   "source": [
    "**What is the number of occurrences for each type of star rating?**"
   ]
  },
  {
   "cell_type": "code",
   "execution_count": 12,
   "metadata": {},
   "outputs": [
    {
     "data": {
      "image/png": "[encoded data removed]",
      "text/plain": [
       "<Figure size 432x288 with 1 Axes>"
      ]
     },
     "metadata": {},
     "output_type": "display_data"
    }
   ],
   "source": [
    "sns.countplot(x='rating',data=amzdf,palette='rainbow')\n",
    "plt.show()"
   ]
  },
  {
   "cell_type": "markdown",
   "metadata": {},
   "source": [
    "Dataset is highly skewed towards 4 and 5 star reviews, this may cause some issues down the line for our analysis.   \n",
    "\n",
    "Next question is if the text length indicative of review rating. "
   ]
  },
  {
   "cell_type": "markdown",
   "metadata": {},
   "source": [
    "**Histograms of text length based off of the review ratings.**"
   ]
  },
  {
   "cell_type": "code",
   "execution_count": 13,
   "metadata": {},
   "outputs": [
    {
     "data": {
      "image/png": "[encoded data removed]",
      "text/plain": [
       "<Figure size 1080x216 with 5 Axes>"
      ]
     },
     "metadata": {},
     "output_type": "display_data"
    }
   ],
   "source": [
    "g = sns.FacetGrid(data=amzdf, col='rating')\n",
    "g.map(plt.hist, 'text_length', bins=20)\n",
    "plt.show()"
   ]
  },
  {
   "cell_type": "markdown",
   "metadata": {},
   "source": [
    "Distribution of text_length for 1 and 2 star ratings are dwarfed by others. "
   ]
  },
  {
   "cell_type": "markdown",
   "metadata": {},
   "source": [
    "#### Is text lenght distribution correlated with rating? "
   ]
  },
  {
   "cell_type": "code",
   "execution_count": 14,
   "metadata": {},
   "outputs": [
    {
     "data": {
      "image/png": "[encoded data removed]",
      "text/plain": [
       "<Figure size 432x288 with 1 Axes>"
      ]
     },
     "metadata": {},
     "output_type": "display_data"
    }
   ],
   "source": [
    "sns.boxplot(x='rating', y='text_length', data=amzdf)\n",
    "plt.show()"
   ]
  },
  {
   "cell_type": "markdown",
   "metadata": {},
   "source": [
    "From the plot, looks like the 1-star and 2-star ratings have longer text, but there are many outliers (which can be seen as points above the boxes). Because of this, maybe text length won’t be such a useful feature to consider after all.\n"
   ]
  },
  {
   "cell_type": "markdown",
   "metadata": {},
   "source": [
    "## Sentiment Analysis <a name=\"sentiment\"></a>"
   ]
  },
  {
   "cell_type": "markdown",
   "metadata": {},
   "source": [
    "** Dependent and independent variables for predicting review polarity ** \n",
    "\n",
    "Since the number of reviews are highly skewed towards 5 star ratings, I will combine 1 and 2 star rewviews into bad reviews and 5 star reviews into good review class. \n",
    "\n",
    "So our dependent value is class feature, and independent values will be processed review text data."
   ]
  },
  {
   "cell_type": "code",
   "execution_count": 15,
   "metadata": {},
   "outputs": [
    {
     "name": "stderr",
     "output_type": "stream",
     "text": [
      "/anaconda3/lib/python3.6/site-packages/ipykernel_launcher.py:2: SettingWithCopyWarning:\n",
      "\n",
      "\n",
      "A value is trying to be set on a copy of a slice from a DataFrame.\n",
      "Try using .loc[row_indexer,col_indexer] = value instead\n",
      "\n",
      "See the caveats in the documentation: http://pandas.pydata.org/pandas-docs/stable/indexing.html#indexing-view-versus-copy\n",
      "\n"
     ]
    },
    {
     "data": {
      "text/html": [
       "<div>\n",
       "<style scoped>\n",
       "    .dataframe tbody tr th:only-of-type {\n",
       "        vertical-align: middle;\n",
       "    }\n",
       "\n",
       "    .dataframe tbody tr th {\n",
       "        vertical-align: top;\n",
       "    }\n",
       "\n",
       "    .dataframe thead th {\n",
       "        text-align: right;\n",
       "    }\n",
       "</style>\n",
       "<table border=\"1\" class=\"dataframe\">\n",
       "  <thead>\n",
       "    <tr style=\"text-align: right;\">\n",
       "      <th></th>\n",
       "      <th>rating</th>\n",
       "      <th>review</th>\n",
       "      <th>text_length</th>\n",
       "      <th>class</th>\n",
       "    </tr>\n",
       "  </thead>\n",
       "  <tbody>\n",
       "    <tr>\n",
       "      <th>1</th>\n",
       "      <td>5.0</td>\n",
       "      <td>Amazing detail, every credit to the photograp...</td>\n",
       "      <td>269</td>\n",
       "      <td>1</td>\n",
       "    </tr>\n",
       "    <tr>\n",
       "      <th>2</th>\n",
       "      <td>5.0</td>\n",
       "      <td>This was purchased on behalf of my Dad. He is...</td>\n",
       "      <td>245</td>\n",
       "      <td>1</td>\n",
       "    </tr>\n",
       "    <tr>\n",
       "      <th>3</th>\n",
       "      <td>5.0</td>\n",
       "      <td>Everything I really needed to see what was on...</td>\n",
       "      <td>144</td>\n",
       "      <td>1</td>\n",
       "    </tr>\n",
       "    <tr>\n",
       "      <th>4</th>\n",
       "      <td>5.0</td>\n",
       "      <td>I collect them all as the glossy pictures are...</td>\n",
       "      <td>112</td>\n",
       "      <td>1</td>\n",
       "    </tr>\n",
       "    <tr>\n",
       "      <th>5</th>\n",
       "      <td>5.0</td>\n",
       "      <td>What a great book.  Extremely useful insight ...</td>\n",
       "      <td>80</td>\n",
       "      <td>1</td>\n",
       "    </tr>\n",
       "  </tbody>\n",
       "</table>\n",
       "</div>"
      ],
      "text/plain": [
       "   rating                                             review  text_length  \\\n",
       "1     5.0   Amazing detail, every credit to the photograp...          269   \n",
       "2     5.0   This was purchased on behalf of my Dad. He is...          245   \n",
       "3     5.0   Everything I really needed to see what was on...          144   \n",
       "4     5.0   I collect them all as the glossy pictures are...          112   \n",
       "5     5.0   What a great book.  Extremely useful insight ...           80   \n",
       "\n",
       "   class  \n",
       "1      1  \n",
       "2      1  \n",
       "3      1  \n",
       "4      1  \n",
       "5      1  "
      ]
     },
     "execution_count": 15,
     "metadata": {},
     "output_type": "execute_result"
    }
   ],
   "source": [
    "data = amzdf[(amzdf['rating'] == 1) | (amzdf['rating'] == 2) |(amzdf['rating'] == 5)]\n",
    "data['class']=data.rating.apply(lambda x: 0 if x <5 else 1 )\n",
    "data.shape\n",
    "\n",
    "data.head()"
   ]
  },
  {
   "cell_type": "markdown",
   "metadata": {},
   "source": [
    "#### Creating a separate holdout set \n",
    "\n",
    "It is important to create a separate test data to see how to model generalize to new samples.  \n",
    "\n",
    "This can be achieved using Scikit learn library model selection methods. "
   ]
  },
  {
   "cell_type": "code",
   "execution_count": 16,
   "metadata": {},
   "outputs": [],
   "source": [
    "import numpy as np\n",
    "np.random.seed(42)\n",
    "\n",
    "from sklearn.model_selection import train_test_split\n",
    "\n",
    "X_train, X_test, y_train, y_test = train_test_split(data['review'], data['class'], test_size=0.2)"
   ]
  },
  {
   "cell_type": "code",
   "execution_count": 17,
   "metadata": {},
   "outputs": [
    {
     "data": {
      "text/plain": [
       "16148     Very good quality chess. Not too big so ideal...\n",
       "5729                     Fake face tattoos - all in order.\n",
       "8498      Some of order missing. Ballons i got were all...\n",
       "8550           Great balloons and blow up to a great size \n",
       "12700     I love this little chap. It's really soft and...\n",
       "21603     This Jigsaw must have more grease than a chip...\n",
       "5856      I ordered this for my friend for her daughter...\n",
       "188                            Just what I was looking for\n",
       "23666     this doll is beautiful, my daughter loves her...\n",
       "22383                                 usual Tamiya quality\n",
       "18522     Bought these as an extra for my Grandson's 6t...\n",
       "23485                                      Beautiful doll.\n",
       "20820     Read about this little fella and just had to ...\n",
       "12556     Gorgeous plush, looks like it should, and it ...\n",
       "2632      I bought this kit many years ago when they st...\n",
       "26349     Transformers have sustained appeal with boys ...\n",
       "4291      These are high quality stickers that give a p...\n",
       "1832      bought as a present for my brother and his wi...\n",
       "1741                                             its sand.\n",
       "3490      My babies love it. Got this for my 6.5 year o...\n",
       "11566     This is great item.  Make fabulous presents a...\n",
       "4240      Was a little bit smaller then expected and th...\n",
       "19103     great washes out of clothes but takes ages to...\n",
       "8356      amazing!! I took them  to toysrus to be infla...\n",
       "24041      Fairly robust, unlike a smaller version I have.\n",
       "10522                        Another excellent Tamiya kit \n",
       "18667                                            Great fun\n",
       "25355     Perfect for my fairy garden, I actually bough...\n",
       "11962     A Revell re-issue of a kit first produced by ...\n",
       "25421     very pleased with these mangoes I will place ...\n",
       "                               ...                        \n",
       "252                                                Perfect\n",
       "3484                                               Perfect\n",
       "23864                                             Awesome \n",
       "24501     my kid loves these little squinkies and this ...\n",
       "11265     Ordered two of the pigs. They are very lifeli...\n",
       "8311                                       Scary as hell! \n",
       "25525     Well made, will now have to look for video/dv...\n",
       "27083     A great purchase, colourful, durable and educ...\n",
       "22754     This railway carriage compliments my ho gauge...\n",
       "8340                  Lasted ages. Great quality balloons.\n",
       "6596                                          Just the job\n",
       "6925      In manufacturers packaging but very flimsy, n...\n",
       "3101      my 4 year old grandson wont go anywhere witho...\n",
       "966       When I saw the picture of Dinky the Duck I th...\n",
       "2139      I think that this product is one of the best ...\n",
       "10802     loved these - bought for my daughters birthda...\n",
       "20730       Brilliant item and very fast delivery Thankyou\n",
       "14694         Perfect. Just what i was looking for. Thanks\n",
       "18648     My son has been asking me for this beyblade f...\n",
       "28479     Great items for early filler for Christmas st...\n",
       "5704                         Always a hit with the kids!! \n",
       "21825     My two year-old son adores this puzzle. As wi...\n",
       "8142      Fantastic product ,price and service! I will ...\n",
       "28685                Fantastic quality and great delivery.\n",
       "14594     We had a birthday party  for my 50th birthday...\n",
       "15461     Brilliant top trumps. Great fun for older one...\n",
       "27964     Not seen this anywhere else so quite unique g...\n",
       "7023      Our teenage son has been running and racing r...\n",
       "1085      Brilliant dice, but please note these are mea...\n",
       "20448                                        Good quality \n",
       "Name: review, Length: 18165, dtype: object"
      ]
     },
     "execution_count": 17,
     "metadata": {},
     "output_type": "execute_result"
    }
   ],
   "source": [
    "X_train"
   ]
  },
  {
   "cell_type": "markdown",
   "metadata": {},
   "source": [
    "#### Preprocessing the text data\n",
    "\n",
    "Using NLTK and string library we will get rid of punctuations, and then lower all words. we will then split the text and remove the ones from stopwords corpus (such as “the”, “a”, “an”, etc.) to limit our features to a more meaningful set.\n"
   ]
  },
  {
   "cell_type": "code",
   "execution_count": 18,
   "metadata": {},
   "outputs": [],
   "source": [
    "import nltk\n",
    "import string"
   ]
  },
  {
   "cell_type": "code",
   "execution_count": 19,
   "metadata": {},
   "outputs": [],
   "source": [
    "stopwords = nltk.corpus.stopwords.words('english')"
   ]
  },
  {
   "cell_type": "code",
   "execution_count": 20,
   "metadata": {},
   "outputs": [],
   "source": [
    "def clean_text(text):\n",
    "    text = \"\".join([word.lower() for word in text if word not in string.punctuation])\n",
    "    tokens = re.split('\\W+', text)\n",
    "    text = [word for word in tokens if word not in stopwords]\n",
    "    return text"
   ]
  },
  {
   "cell_type": "code",
   "execution_count": 21,
   "metadata": {},
   "outputs": [
    {
     "name": "stdout",
     "output_type": "stream",
     "text": [
      "Sample text:\n",
      " Part of the magic for me growing up as a boy was to buy (or be given) the new Hornby catalogue every year, even if it included 90% of the same products as the previous year.  I've still got my old ones dating back to the 70s and 80s somewhere.  These days the catalogue is especially informative in that it tells you the vintage of the rolling stock which is useful if you are dedicating your railway to one particular era and train company. \n"
     ]
    }
   ],
   "source": [
    "sample_text=amzdf.review[0]\n",
    "print(\"Sample text:\")\n",
    "print(sample_text)"
   ]
  },
  {
   "cell_type": "code",
   "execution_count": 22,
   "metadata": {},
   "outputs": [
    {
     "name": "stdout",
     "output_type": "stream",
     "text": [
      "['', 'part', 'magic', 'growing', 'boy', 'buy', 'given', 'new', 'hornby', 'catalogue', 'every', 'year', 'even', 'included', '90', 'products', 'previous', 'year', 'ive', 'still', 'got', 'old', 'ones', 'dating', 'back', '70s', '80s', 'somewhere', 'days', 'catalogue', 'especially', 'informative', 'tells', 'vintage', 'rolling', 'stock', 'useful', 'dedicating', 'railway', 'one', 'particular', 'era', 'train', 'company', '']\n"
     ]
    }
   ],
   "source": [
    "print(clean_text(sample_text))"
   ]
  },
  {
   "cell_type": "markdown",
   "metadata": {},
   "source": [
    "** Creating a bag of words approach from the dataset **\n",
    "\n",
    "Classification needs the independent features in a vector format. The simplest way to convert words of text corpus to a vector format is the bag-of-words approach, where each unique word in a text will be represented by one number.\n",
    "\n",
    "This can be achieved by using CountVectorizer from scikit learn tools. "
   ]
  },
  {
   "cell_type": "code",
   "execution_count": 23,
   "metadata": {},
   "outputs": [],
   "source": [
    "from sklearn.feature_extraction.text import CountVectorizer"
   ]
  },
  {
   "cell_type": "code",
   "execution_count": 24,
   "metadata": {},
   "outputs": [],
   "source": [
    "bow_transformer = CountVectorizer(analyzer=clean_text).fit(X_train)"
   ]
  },
  {
   "cell_type": "markdown",
   "metadata": {},
   "source": [
    "It is important to apply the bag-of-word(bow) transformer to only the training data so we are not biasing the performanc on holdout test set.\n",
    "\n",
    "We can check the size of bag of words and feature names as follows: "
   ]
  },
  {
   "cell_type": "code",
   "execution_count": 25,
   "metadata": {},
   "outputs": [
    {
     "data": {
      "text/plain": [
       "26076"
      ]
     },
     "execution_count": 25,
     "metadata": {},
     "output_type": "execute_result"
    }
   ],
   "source": [
    "len(bow_transformer.vocabulary_)\n"
   ]
  },
  {
   "cell_type": "code",
   "execution_count": 26,
   "metadata": {},
   "outputs": [
    {
     "name": "stdout",
     "output_type": "stream",
     "text": [
      "['acceptably', 'accepted', 'accesories', 'accesorisefashion', 'access', 'accessed', 'accessible', 'accessing', 'accessoires', 'accessories']\n"
     ]
    }
   ],
   "source": [
    "print(bow_transformer.get_feature_names()[1000:1010])"
   ]
  },
  {
   "cell_type": "markdown",
   "metadata": {},
   "source": [
    "** Let's see how the bow transformer works on a sample review: **"
   ]
  },
  {
   "cell_type": "code",
   "execution_count": 27,
   "metadata": {},
   "outputs": [
    {
     "data": {
      "text/plain": [
       "' My two year-old son adores this puzzle. As with all Orchard puzzles there is a lot going on so the pieces are easily differentiated. My son loves counting all the different animals and putting the numbers in order up the tree. It has been a great way for him to become familiar with written numbers and the order they go in. The pieces are large and easy for small hands to put in place and it comes with a poster which is a bonus. '"
      ]
     },
     "execution_count": 27,
     "metadata": {},
     "output_type": "execute_result"
    }
   ],
   "source": [
    "sample_review = X_train[21825]\n",
    "sample_review"
   ]
  },
  {
   "cell_type": "code",
   "execution_count": 28,
   "metadata": {},
   "outputs": [
    {
     "data": {
      "text/plain": [
       "<1x26076 sparse matrix of type '<class 'numpy.int64'>'\n",
       "\twith 36 stored elements in Compressed Sparse Row format>"
      ]
     },
     "execution_count": 28,
     "metadata": {},
     "output_type": "execute_result"
    }
   ],
   "source": [
    "bowed_sample_review = bow_transformer.transform([sample_review])\n",
    "bowed_sample_review"
   ]
  },
  {
   "cell_type": "markdown",
   "metadata": {},
   "source": [
    "The bag-of-words transformer will create a sparse matrix that will be populated if the input text contains the ith word from the bag of words or not. We can print the transformed sample review and explore how it was vectorized. "
   ]
  },
  {
   "cell_type": "code",
   "execution_count": 29,
   "metadata": {},
   "outputs": [
    {
     "name": "stdout",
     "output_type": "stream",
     "text": [
      "  (0, 0)\t2\n",
      "  (0, 1181)\t1\n",
      "  (0, 1665)\t1\n",
      "  (0, 2764)\t1\n",
      "  (0, 3322)\t1\n",
      "  (0, 5190)\t1\n",
      "  (0, 5739)\t1\n",
      "  (0, 6872)\t1\n",
      "  (0, 6874)\t1\n",
      "  (0, 7663)\t1\n",
      "  (0, 7679)\t1\n",
      "  (0, 8711)\t1\n",
      "  (0, 10246)\t1\n",
      "  (0, 10283)\t1\n",
      "  (0, 10514)\t1\n",
      "  (0, 10869)\t1\n",
      "  (0, 13161)\t1\n",
      "  (0, 13800)\t1\n",
      "  (0, 13853)\t1\n",
      "  (0, 15646)\t2\n",
      "  (0, 16064)\t1\n",
      "  (0, 16068)\t2\n",
      "  (0, 17015)\t2\n",
      "  (0, 17140)\t1\n",
      "  (0, 17562)\t1\n",
      "  (0, 18262)\t1\n",
      "  (0, 18265)\t1\n",
      "  (0, 18271)\t1\n",
      "  (0, 18281)\t1\n",
      "  (0, 21111)\t1\n",
      "  (0, 21340)\t2\n",
      "  (0, 23934)\t1\n",
      "  (0, 24205)\t1\n",
      "  (0, 25141)\t1\n",
      "  (0, 25781)\t1\n",
      "  (0, 25893)\t1\n"
     ]
    }
   ],
   "source": [
    "print(bowed_sample_review)"
   ]
  },
  {
   "cell_type": "code",
   "execution_count": 30,
   "metadata": {},
   "outputs": [
    {
     "name": "stdout",
     "output_type": "stream",
     "text": [
      "loves\n",
      "numbers\n",
      "order\n",
      "pieces\n",
      "son\n"
     ]
    }
   ],
   "source": [
    "print(bow_transformer.get_feature_names()[13853])\n",
    "print(bow_transformer.get_feature_names()[15646])\n",
    "print(bow_transformer.get_feature_names()[16068])\n",
    "print(bow_transformer.get_feature_names()[17015])\n",
    "print(bow_transformer.get_feature_names()[21340])"
   ]
  },
  {
   "cell_type": "markdown",
   "metadata": {},
   "source": [
    "** Transforming training and test datasets **"
   ]
  },
  {
   "cell_type": "code",
   "execution_count": 31,
   "metadata": {},
   "outputs": [],
   "source": [
    "Xtrbow = bow_transformer.transform(X_train)\n",
    "Xtestbow = bow_transformer.transform(X_test)"
   ]
  },
  {
   "cell_type": "code",
   "execution_count": 32,
   "metadata": {},
   "outputs": [
    {
     "name": "stdout",
     "output_type": "stream",
     "text": [
      "Shape of Sparse Matrix:  (18165, 26076)\n",
      "Amount of Non-Zero occurrences:  332064\n",
      "Density: 0.07010442321365394\n"
     ]
    }
   ],
   "source": [
    "print('Shape of Sparse Matrix: ', Xtrbow.shape)\n",
    "print('Amount of Non-Zero occurrences: ', Xtrbow.nnz)\n",
    "\n",
    "# Percentage of non-zero values\n",
    "density = (100.0 * Xtrbow.nnz / (Xtrbow.shape[0] * Xtrbow.shape[1]))\n",
    "print('Density: {}'.format((density)))"
   ]
  },
  {
   "cell_type": "markdown",
   "metadata": {},
   "source": [
    "** Training our model **\n",
    "\n",
    "[Multinomial Naive Bayes](https://scikit-learn.org/stable/modules/generated/sklearn.naive_bayes.MultinomialNB.html) is a specialised version of Naive Bayes designed for text documents.\n",
    "\n",
    "The distribution is parametrized by vectors $\\theta_y = (\\theta_{y1},\\ldots,\\theta_{yn})$ for each class $y$,\n",
    "where $n$ is the number of features (in text classification, the size of the vocabulary) and $\\theta_{yi}$ is the probability $P(x_i \\mid y)$ of feature $i$ appearing in a sample belonging to class $y$.\n",
    "\n",
    "The parameters $\\theta_y$ is estimated by a smoothed version of maximum likelihood, i.e. relative frequency counting:\n",
    "\n",
    "$\\hat{\\theta}_{yi} = \\frac{ N_{yi} + \\alpha}{N_y + \\alpha n}$\n",
    "\n",
    "where $N_{yi} = \\sum_{x \\in T} x_i$  is the number of times feature $i$ appears in a sample of class $y$ in the training set $T$, and $N_{y} = \\sum_{i=1}^{n} N_{yi}$ is the total count of all features for class $y$."
   ]
  },
  {
   "cell_type": "markdown",
   "metadata": {},
   "source": [
    "Let’s build a Multinomial Naive Bayes model and fit it to our training set (X_train and y_train)."
   ]
  },
  {
   "cell_type": "code",
   "execution_count": 33,
   "metadata": {},
   "outputs": [
    {
     "data": {
      "text/plain": [
       "MultinomialNB(alpha=1.0, class_prior=None, fit_prior=True)"
      ]
     },
     "execution_count": 33,
     "metadata": {},
     "output_type": "execute_result"
    }
   ],
   "source": [
    "from sklearn.naive_bayes import MultinomialNB\n",
    "\n",
    "nb = MultinomialNB()\n",
    "nb.fit(Xtrbow, y_train)"
   ]
  },
  {
   "cell_type": "code",
   "execution_count": 34,
   "metadata": {},
   "outputs": [],
   "source": [
    "preds = nb.predict(Xtestbow)"
   ]
  },
  {
   "cell_type": "markdown",
   "metadata": {},
   "source": [
    "## Error Analysis <a name=\"error\"></a>"
   ]
  },
  {
   "cell_type": "code",
   "execution_count": 35,
   "metadata": {},
   "outputs": [
    {
     "name": "stdout",
     "output_type": "stream",
     "text": [
      "[[  33  205]\n",
      " [   4 4300]]\n",
      "\n",
      "\n",
      "              precision    recall  f1-score   support\n",
      "\n",
      "           0       0.89      0.14      0.24       238\n",
      "           1       0.95      1.00      0.98      4304\n",
      "\n",
      "   micro avg       0.95      0.95      0.95      4542\n",
      "   macro avg       0.92      0.57      0.61      4542\n",
      "weighted avg       0.95      0.95      0.94      4542\n",
      "\n"
     ]
    }
   ],
   "source": [
    "from sklearn.metrics import confusion_matrix, classification_report\n",
    "\n",
    "print(confusion_matrix(y_test, preds))\n",
    "print('\\n')\n",
    "print(classification_report(y_test, preds))"
   ]
  },
  {
   "cell_type": "markdown",
   "metadata": {},
   "source": [
    "Looking at macro avg value, we see that our model can predict whether a user liked their amazon purchase based on their product review to 92% accuracy. \n",
    "\n",
    "Since the dataset is highly skewed towards 5-star reviews, our model learned them quite well. \n",
    "According to the confusion matrix, only 4 of the 5-star reviews were misclassifed as bad reviews.\n",
    "\n",
    "** Let's look at missed good reviews!**"
   ]
  },
  {
   "cell_type": "code",
   "execution_count": 36,
   "metadata": {},
   "outputs": [
    {
     "data": {
      "text/plain": [
       "(array([ 882, 1428, 1509, 4453]),)"
      ]
     },
     "execution_count": 36,
     "metadata": {},
     "output_type": "execute_result"
    }
   ],
   "source": [
    "import numpy as np\n",
    "\n",
    "y_test = np.asarray(y_test)\n",
    "missedgood = np.where((preds==0) & (y_test==1))\n",
    "missedgood"
   ]
  },
  {
   "cell_type": "code",
   "execution_count": 37,
   "metadata": {},
   "outputs": [
    {
     "data": {
      "text/plain": [
       "\" Excellent model in perfect condition from reputeable amazon seller, however it was returned for a refund because it's couplings were not compatable with my other Railjet coaches. I was previously ignorant of the fact that Roco Railjet coaches with internal lighting do not have the same couplings as those without. Roco Railjet coaches 64722 / 64723 / 64724 have internal lighting powered through connections in the couplings.\""
      ]
     },
     "execution_count": 37,
     "metadata": {},
     "output_type": "execute_result"
    }
   ],
   "source": [
    "X_test.iloc[1509]"
   ]
  },
  {
   "cell_type": "markdown",
   "metadata": {},
   "source": [
    "In this case the user states that the purchased model is in perfect condition, but possibly since the review includes the word \"refund\", our classifier marks it as bad review. "
   ]
  },
  {
   "cell_type": "markdown",
   "metadata": {},
   "source": [
    "** Let's look bad reviews that were able to classified even with the data bias! **"
   ]
  },
  {
   "cell_type": "code",
   "execution_count": 38,
   "metadata": {},
   "outputs": [
    {
     "data": {
      "text/plain": [
       "(array([ 720,  822,  845,  914,  943, 1225, 1508, 1811, 1826, 1908, 2096,\n",
       "        2111, 2112, 2274, 2378, 2538, 2585, 2743, 2853, 2868, 2937, 3074,\n",
       "        3087, 3225, 3246, 3263, 3359, 3421, 3554, 3689, 4141, 4469, 4492]),)"
      ]
     },
     "execution_count": 38,
     "metadata": {},
     "output_type": "execute_result"
    }
   ],
   "source": [
    "foundbad = np.where((y_test == preds) & (y_test==0))\n",
    "foundbad"
   ]
  },
  {
   "cell_type": "code",
   "execution_count": 39,
   "metadata": {},
   "outputs": [
    {
     "data": {
      "text/plain": [
       "\" Absolutely rubbish. Looks nothing like it does in the images provided. The banner itself it of a poor quality and the writing is squashed together. Also there are gaps where the ink has not taken. Severely disappointed. I know it's low priced but the quality is no where near to the standard shown on the images. \""
      ]
     },
     "execution_count": 39,
     "metadata": {},
     "output_type": "execute_result"
    }
   ],
   "source": [
    "X_test.iloc[845]"
   ]
  },
  {
   "cell_type": "markdown",
   "metadata": {},
   "source": [
    "In conclusion, although our model was a little biased towards positive reviews, it was fairly accurate with its predictions, achieving an accuracy of 92% on the test set."
   ]
  }
 ],
 "metadata": {
  "kernelspec": {
   "display_name": "Python 3",
   "language": "python",
   "name": "python3"
  },
  "language_info": {
   "codemirror_mode": {
    "name": "ipython",
    "version": 3
   },
   "file_extension": ".py",
   "mimetype": "text/x-python",
   "name": "python",
   "nbconvert_exporter": "python",
   "pygments_lexer": "ipython3",
   "version": "3.6.4"
  }
 },
 "nbformat": 4,
 "nbformat_minor": 2
}
